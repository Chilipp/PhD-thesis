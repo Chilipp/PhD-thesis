{
 "cells": [
  {
   "cell_type": "markdown",
   "metadata": {},
   "source": [
    "# Demo plots of the psy-reg plugin"
   ]
  },
  {
   "cell_type": "code",
   "execution_count": null,
   "metadata": {},
   "outputs": [],
   "source": [
    "import psyplot.project as psy\n",
    "import matplotlib.pyplot as plt\n",
    "import numpy as np\n",
    "import xarray as xr\n",
    "%matplotlib inline"
   ]
  },
  {
   "cell_type": "code",
   "execution_count": null,
   "metadata": {},
   "outputs": [],
   "source": [
    "plt.rcParams['savefig.dpi'] = 300\n",
    "plt.rcParams['figure.subplot.left'] = 0.12\n",
    "plt.rcParams['figure.subplot.right'] = 0.92\n",
    "plt.rcParams['figure.subplot.bottom'] = 0.12\n",
    "plt.rcParams['figure.subplot.top'] = 0.92\n",
    "plt.rcParams['figure.figsize'] = (5, 4)"
   ]
  },
  {
   "cell_type": "code",
   "execution_count": null,
   "metadata": {},
   "outputs": [],
   "source": [
    "x = np.linspace(0, 100)\n",
    "y = x * 4 + 30 + 50* np.random.normal(size=x.size)\n",
    "ds = xr.Dataset({'x': xr.Variable(('experiment', ), x),\n",
    "                 'y': xr.Variable(('experiment', ), y)})\n",
    "ds"
   ]
  },
  {
   "cell_type": "code",
   "execution_count": null,
   "metadata": {},
   "outputs": [],
   "source": [
    "raw = psy.plot.lineplot(\n",
    "    ds, name='y', coord='x', linewidth=0, marker='o', legendlabels='raw data',\n",
    "    legend='upper left')\n",
    "fit = psy.plot.linreg(ds, ax=raw.plotters[0].ax, name='y', coord='x',\n",
    "                      legendlabels='fit', color='red')\n",
    "fit.share(raw[0], keys='legend')\n",
    "pdf = fit.export('psy-reg-demo.pdf', close_pdf=False)"
   ]
  },
  {
   "cell_type": "code",
   "execution_count": null,
   "metadata": {},
   "outputs": [],
   "source": [
    "all_x = []\n",
    "all_y = []\n",
    "for i in range(5):\n",
    "    deviation = np.abs(np.random.normal())\n",
    "    all_x.append(np.linspace(-np.pi - deviation, np.pi + deviation))\n",
    "    all_y.append(np.sin(all_x[-1]) + np.random.normal(scale=0.5, size=all_x[-1].size))\n",
    "x = np.concatenate(all_x)\n",
    "y = np.concatenate(all_y)\n",
    "ds2 = xr.Dataset({'x': xr.Variable(('experiment', ), x),\n",
    "                 'y': xr.Variable(('experiment', ), y)})\n",
    "ds2\n"
   ]
  },
  {
   "cell_type": "code",
   "execution_count": null,
   "metadata": {},
   "outputs": [],
   "source": [
    "raw = psy.plot.lineplot(\n",
    "    ds2, name='y', coord='x', linewidth=0, marker='o', legendlabels='raw data',\n",
    "    legend='upper right')\n",
    "fit = psy.plot.linreg(ds2, ax=raw.plotters[0].ax, name='y', coord='x',\n",
    "                      legendlabels='fit', color='red',\n",
    "                      fit=lambda x, a: np.sin(a * x))\n",
    "fit.share(raw[0], keys=['legend', 'xlim', 'ylim'])\n",
    "fit.export(pdf)"
   ]
  },
  {
   "cell_type": "code",
   "execution_count": null,
   "metadata": {},
   "outputs": [],
   "source": [
    "x = np.linspace(0, 100)\n",
    "x = np.concatenate([x] * 5)\n",
    "y = x * 4 + 30 + 50* np.random.normal(size=x.size)\n",
    "\n",
    "ds = xr.Dataset({'x': xr.Variable(('experiment', ), x),\n",
    "                 'y': xr.Variable(('experiment', ), y)})\n",
    "ds = ds.to_dataframe().sample(frac=0.1).to_xarray()"
   ]
  },
  {
   "cell_type": "code",
   "execution_count": null,
   "metadata": {},
   "outputs": [],
   "source": [
    "p = psy.plot.densityreg(\n",
    "    ds, name='y', coord='x', cmap='Blues', bins=50, density='kde',\n",
    "    clabel='Kernel density', cbar='', legend=False,\n",
    "    color=plt.rcParams['axes.prop_cycle'].by_key()['color'][1], \n",
    "    linewidth=4, erroralpha=0.6,\n",
    "    xlim='minmax', ylim='minmax')\n",
    "p.export(pdf)"
   ]
  },
  {
   "cell_type": "code",
   "execution_count": null,
   "metadata": {},
   "outputs": [],
   "source": [
    "all_x = []\n",
    "all_y = []\n",
    "for i in range(3):\n",
    "    deviation = np.abs(np.random.normal())\n",
    "    all_x.append(np.linspace(-np.pi - deviation, np.pi + deviation))\n",
    "    all_x[-1] += 3 * np.random.random_sample(size=all_x[-1].size)\n",
    "    all_y.append(np.sin(all_x[-1]) + np.random.normal(scale=0.5, size=all_x[-1].size))\n",
    "x = np.concatenate(all_x)\n",
    "y = np.concatenate(all_y)\n",
    "ds = xr.Dataset({'x': xr.Variable(('experiment', ), x),\n",
    "                 'y': xr.Variable(('experiment', ), y)})\n",
    "ds\n",
    "\n",
    "p = psy.plot.densityreg(\n",
    "    ds, name='y', coord='x', cmap='Blues', bins=50, density='kde',\n",
    "    clabel='Kernel density', xlim='minmax', ylim='minmax',\n",
    "    color=plt.rcParams['axes.prop_cycle'].by_key()['color'][1], \n",
    "    fit=lambda x, a: np.sin(a * x), cbar='', erroralpha=0.6,\n",
    "    legend=False)\n",
    "p.export(pdf)"
   ]
  },
  {
   "cell_type": "code",
   "execution_count": null,
   "metadata": {},
   "outputs": [],
   "source": [
    "pdf.close()"
   ]
  }
 ],
 "metadata": {
  "kernelspec": {
   "display_name": "POLNET-gridding",
   "language": "python",
   "name": "polnet"
  },
  "language_info": {
   "codemirror_mode": {
    "name": "ipython",
    "version": 3
   },
   "file_extension": ".py",
   "mimetype": "text/x-python",
   "name": "python",
   "nbconvert_exporter": "python",
   "pygments_lexer": "ipython3",
   "version": "3.7.3"
  }
 },
 "nbformat": 4,
 "nbformat_minor": 2
}
